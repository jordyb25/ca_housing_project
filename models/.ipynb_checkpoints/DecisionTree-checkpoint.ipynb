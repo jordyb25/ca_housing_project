{
 "cells": [
  {
   "cell_type": "markdown",
   "id": "a36accd0-7fc6-4571-9071-486f4506d7d0",
   "metadata": {},
   "source": [
    "# Data Loading\n",
    "\n",
    "Read the cleaned/processed dataset (24 features)\n",
    "No pipelines needed since data is already preprocessed"
   ]
  },
  {
   "cell_type": "code",
   "execution_count": 21,
   "id": "67b60653-fcc5-49f4-aa00-43224861a1c0",
   "metadata": {},
   "outputs": [],
   "source": [
    "import pandas as pd\n",
    "from pathlib import Path\n",
    "from sklearn.tree import DecisionTreeRegressor\n",
    "\n",
    "train_path = Path(\"/Users/jo/Documents/ca_housing_project/data/train/housing_train_processed.csv\")\n",
    "housing = pd.read_csv(train_path)\n",
    "X = housing.drop(\"median_house_value\", axis=1)\n",
    "y = housing[\"median_house_value\"]\n",
    "\n",
    "X = housing.drop(\"median_house_value\", axis=1)\n",
    "y = housing[\"median_house_value\"]\n",
    "\n",
    "X = pd.get_dummies(X, columns=[\"ocean_proximity\"])"
   ]
  },
  {
   "cell_type": "markdown",
   "id": "fb2e558a-06f2-4cd1-9174-4a4a8664dabe",
   "metadata": {},
   "source": [
    "# Model Fitting\n",
    "\n",
    "Initialize and fit the specific model\n",
    "Display basic training results"
   ]
  },
  {
   "cell_type": "code",
   "execution_count": 23,
   "id": "88345197-f1b8-489d-80db-cb15929ccb0d",
   "metadata": {},
   "outputs": [
    {
     "name": "stdout",
     "output_type": "stream",
     "text": [
      "Training Results: 0.9998263063701696\n"
     ]
    }
   ],
   "source": [
    "dtree_model = DecisionTreeRegressor(random_state=42)\n",
    "dtree_model.fit(X, y)\n",
    "print(\"Training Results:\", dtree_model.score(X, y))"
   ]
  },
  {
   "cell_type": "markdown",
   "id": "4434938e-5d1d-4b68-acf0-4619aa541bdc",
   "metadata": {},
   "source": [
    "# Cross-Validation\n",
    "\n",
    "Implement cross-validation evaluation\n",
    "Display CV scores and statistics"
   ]
  },
  {
   "cell_type": "code",
   "execution_count": 27,
   "id": "99d9015b-eb13-4e35-af45-f924bf4bd278",
   "metadata": {},
   "outputs": [
    {
     "name": "stdout",
     "output_type": "stream",
     "text": [
      "Cross-Validation R squared score: [0.66884137 0.65288728 0.64395006 0.64043665 0.62178246]\n",
      "Mean Cross Validation: 0.6455795656155263\n"
     ]
    }
   ],
   "source": [
    "from sklearn.model_selection import cross_val_score\n",
    "import numpy as np\n",
    "\n",
    "cv_scores = cross_val_score(dtree_model, X, y, cv=5, scoring='r2')\n",
    "print(\"Cross-Validation R squared score:\", cv_scores)\n",
    "print(\"Mean Cross Validation:\", np.mean(cv_scores))"
   ]
  },
  {
   "cell_type": "markdown",
   "id": "4ad85232-5333-4a0c-8664-73ce462e2499",
   "metadata": {},
   "source": [
    "# Hyperparameter Tuning\n",
    "\n",
    "Use GridSearchCV or RandomizedSearchCV\n",
    "Show best parameters and improved performance"
   ]
  },
  {
   "cell_type": "code",
   "execution_count": 32,
   "id": "86741614-100c-417e-ab8a-08736fbae4af",
   "metadata": {},
   "outputs": [
    {
     "name": "stdout",
     "output_type": "stream",
     "text": [
      "Best parameters: {'max_depth': 10, 'min_samples_leaf': 4, 'min_samples_split': 10}\n",
      "Best Cross Validation score: 0.7360504840931417\n"
     ]
    }
   ],
   "source": [
    "from sklearn.model_selection import GridSearchCV\n",
    "param_grid = {\n",
    "    'max_depth': [None, 5, 10, 15],\n",
    "    'min_samples_split': [2, 5, 10],\n",
    "    'min_samples_leaf': [1, 2, 4]\n",
    "}\n",
    "\n",
    "grid_search = GridSearchCV(dtree_model, param_grid, cv=10, scoring='r2')\n",
    "grid_search.fit(X, y)\n",
    "print(\"Best parameters:\", grid_search.best_params_)\n",
    "print(\"Best Cross Validation score:\", grid_search.best_score_)"
   ]
  },
  {
   "cell_type": "markdown",
   "id": "68528e52-bdd2-49a7-af37-320dde09500a",
   "metadata": {},
   "source": [
    "# Model Saving\n",
    "\n",
    "Save the trained model to the /models directory\n",
    "Use appropriate naming convention (e.g., linear_regression_model.pkl)"
   ]
  },
  {
   "cell_type": "code",
   "execution_count": 36,
   "id": "471f380d-2f2b-4202-97b3-24720c4e2e0d",
   "metadata": {},
   "outputs": [
    {
     "data": {
      "text/plain": [
       "['/Users/jo/Documents/ca_housing_project/models/decision_tree_model.pkl']"
      ]
     },
     "execution_count": 36,
     "metadata": {},
     "output_type": "execute_result"
    }
   ],
   "source": [
    "import joblib\n",
    "model_path = Path(\"/Users/jo/Documents/ca_housing_project/models/decision_tree_model.pkl\")\n",
    "joblib.dump(grid_search.best_estimator_, model_path)"
   ]
  }
 ],
 "metadata": {
  "kernelspec": {
   "display_name": "Python [conda env:base] *",
   "language": "python",
   "name": "conda-base-py"
  },
  "language_info": {
   "codemirror_mode": {
    "name": "ipython",
    "version": 3
   },
   "file_extension": ".py",
   "mimetype": "text/x-python",
   "name": "python",
   "nbconvert_exporter": "python",
   "pygments_lexer": "ipython3",
   "version": "3.12.7"
  }
 },
 "nbformat": 4,
 "nbformat_minor": 5
}
