{
 "cells": [
  {
   "cell_type": "markdown",
   "id": "210554a0-212c-4a47-95c6-d98a2e2cf2a7",
   "metadata": {},
   "source": [
    "# Data Loading\n",
    "\n",
    "Read the cleaned/processed dataset (24 features)\n",
    "No pipelines needed since data is already preprocessed\n"
   ]
  },
  {
   "cell_type": "code",
   "execution_count": 25,
   "id": "8a4780c1-20f5-4f1e-a2ee-b0c1571026b0",
   "metadata": {},
   "outputs": [],
   "source": [
    "import pandas as pd\n",
    "from pathlib import Path\n",
    "from sklearn.model_selection import cross_val_score, GridSearchCV\n",
    "\n",
    "train_path = Path(\"/Users/jo/Documents/ca_housing_project/data/train/housing_train_processed.csv\")\n",
    "housing = pd.read_csv(train_path)\n",
    "\n",
    "X = housing.drop(\"median_house_value\", axis=1)\n",
    "y = housing[\"median_house_value\"]"
   ]
  },
  {
   "cell_type": "markdown",
   "id": "c572e844-0a1e-4ca6-a7ed-5f0f3904acb3",
   "metadata": {},
   "source": [
    "# Model Fitting\n",
    "\n",
    "Initialize and fit the specific model\n",
    "Display basic training results"
   ]
  },
  {
   "cell_type": "code",
   "execution_count": 55,
   "id": "bd9468f7-0b91-4edc-b44e-8e4e22427a67",
   "metadata": {},
   "outputs": [
    {
     "name": "stdout",
     "output_type": "stream",
     "text": [
      "Training r squared 0.6412971630899746\n"
     ]
    }
   ],
   "source": [
    "X = df.drop(columns=[\"median_house_value\", \"ocean_proximity\"])\n",
    "y = df[\"median_house_value\"]\n",
    "X = X.dropna()\n",
    "y = y.loc[X.index]\n",
    "\n",
    "from sklearn.linear_model import LinearRegression\n",
    "\n",
    "lin_reg = LinearRegression()\n",
    "lin_reg.fit(X, y)\n",
    "\n",
    "print(\"Training r squared\", lin_reg.score(X, y))"
   ]
  },
  {
   "cell_type": "markdown",
   "id": "967e1214-2bde-410c-9c44-e14af37760bd",
   "metadata": {},
   "source": [
    "# Cross-Validation\n",
    "\n",
    "Implement cross-validation evaluation\n",
    "Display CV scores and statistics"
   ]
  },
  {
   "cell_type": "code",
   "execution_count": 45,
   "id": "82f984a8-d236-4020-b3ca-16eb9e6b8d5a",
   "metadata": {},
   "outputs": [
    {
     "name": "stdout",
     "output_type": "stream",
     "text": [
      "Cross Validation Scores: [0.64209246 0.66523826 0.63772601 0.62109691 0.64518025 0.65521565\n",
      " 0.64846201 0.61254222 0.62641222 0.64627566]\n",
      "Mean r squared value: 0.6400241646166711\n"
     ]
    }
   ],
   "source": [
    "from sklearn.model_selection import cross_val_score\n",
    "import numpy as np\n",
    "\n",
    "cv_scores = cross_val_score(lin_reg, X, y, cv=10, scoring=\"r2\")\n",
    "\n",
    "print(\"Cross Validation Scores:\", cv_scores)\n",
    "print(\"Mean r squared value:\", np.mean(cv_scores))"
   ]
  },
  {
   "cell_type": "markdown",
   "id": "a42bd121-b4b3-416a-a94e-dba81c3c9885",
   "metadata": {},
   "source": [
    "# Hyperparameter Tuning\n",
    "\n",
    "Use GridSearchCV or RandomizedSearchCV\n",
    "Show best parameters and improved performance"
   ]
  },
  {
   "cell_type": "code",
   "execution_count": 49,
   "id": "2ec54abe-778d-4ae4-8ff0-e7f455f67b33",
   "metadata": {},
   "outputs": [
    {
     "name": "stdout",
     "output_type": "stream",
     "text": [
      "Best parameters: {'fit_intercept': True, 'positive': False}\n",
      "Improved Performance: 0.6402736089284211\n"
     ]
    }
   ],
   "source": [
    "from sklearn.model_selection import GridSearchCV\n",
    "\n",
    "param_grid = {\n",
    "    'fit_intercept': [True, False],\n",
    "    'positive': [True, False]\n",
    "}\n",
    "grid_search = GridSearchCV(LinearRegression(), param_grid, cv=5, scoring='r2')\n",
    "grid_search.fit(X, y)\n",
    "\n",
    "print(\"Best parameters:\", grid_search.best_params_)\n",
    "print(\"Improved Performance:\", grid_search.best_score_)"
   ]
  },
  {
   "cell_type": "markdown",
   "id": "81a88029-c2d4-48bb-8b16-df2da97bab99",
   "metadata": {},
   "source": [
    "# Model Saving\n",
    "\n",
    "Save the trained model to the /models directory\n",
    "Use appropriate naming convention (e.g., linear_regression_model.pkl)"
   ]
  },
  {
   "cell_type": "code",
   "execution_count": 53,
   "id": "4f16b915-ddc0-4b63-8765-79214503f751",
   "metadata": {},
   "outputs": [
    {
     "data": {
      "text/plain": [
       "['/Users/jo/Documents/ca_housing_project/models/linear_regression_model.pkl']"
      ]
     },
     "execution_count": 53,
     "metadata": {},
     "output_type": "execute_result"
    }
   ],
   "source": [
    "model_path = Path(\"/Users/jo/Documents/ca_housing_project/models/linear_regression_model.pkl\")\n",
    "joblib.dump(lin_reg, model_path)"
   ]
  }
 ],
 "metadata": {
  "kernelspec": {
   "display_name": "Python [conda env:base] *",
   "language": "python",
   "name": "conda-base-py"
  },
  "language_info": {
   "codemirror_mode": {
    "name": "ipython",
    "version": 3
   },
   "file_extension": ".py",
   "mimetype": "text/x-python",
   "name": "python",
   "nbconvert_exporter": "python",
   "pygments_lexer": "ipython3",
   "version": "3.12.7"
  }
 },
 "nbformat": 4,
 "nbformat_minor": 5
}
