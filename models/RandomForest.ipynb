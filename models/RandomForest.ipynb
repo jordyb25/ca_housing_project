{
 "cells": [
  {
   "cell_type": "markdown",
   "id": "29a98162-74b8-4307-b656-5affe08ba5ac",
   "metadata": {},
   "source": [
    "# Data Loading\n",
    "\n",
    "Read the cleaned/processed dataset (24 features)\n",
    "No pipelines needed since data is already preprocessed"
   ]
  },
  {
   "cell_type": "code",
   "execution_count": 10,
   "id": "ffa5d3cc-ce39-4ec6-b2b5-b024b782a6f1",
   "metadata": {},
   "outputs": [],
   "source": [
    "import pandas as pd\n",
    "from pathlib import Path\n",
    "from sklearn.tree import DecisionTreeRegressor\n",
    "\n",
    "train_path = Path(\"/Users/jo/Documents/ca_housing_project/data/train/housing_train_processed.csv\")\n",
    "housing = pd.read_csv(train_path)\n",
    "X = housing.drop(\"median_house_value\", axis=1)\n",
    "y = housing[\"median_house_value\"]\n",
    "\n",
    "\n",
    "X = pd.get_dummies(X, columns=[\"ocean_proximity\"])"
   ]
  },
  {
   "cell_type": "markdown",
   "id": "e28477b5-bcbd-4209-9856-9fc6a1edf920",
   "metadata": {},
   "source": [
    "# Model Fitting\n",
    "\n",
    "Initialize and fit the specific model\n",
    "Display basic training results"
   ]
  },
  {
   "cell_type": "code",
   "execution_count": 12,
   "id": "b6dd9d90-2556-470e-a467-2c846caa64c7",
   "metadata": {},
   "outputs": [
    {
     "name": "stdout",
     "output_type": "stream",
     "text": [
      "Training r squared: 0.9753395337088929\n"
     ]
    }
   ],
   "source": [
    "from sklearn.ensemble import RandomForestRegressor\n",
    "\n",
    "rf = RandomForestRegressor(random_state=42, n_jobs=-1)\n",
    "rf.fit(X, y)\n",
    "print(\"Training r squared:\", rf.score(X, y))"
   ]
  },
  {
   "cell_type": "markdown",
   "id": "bbd6d4cb-333b-4bb5-973d-18d8de7a3dda",
   "metadata": {},
   "source": [
    "# Cross-Validation\n",
    "\n",
    "Implement cross-validation evaluation\n",
    "Display CV scores and statistics"
   ]
  },
  {
   "cell_type": "code",
   "execution_count": 16,
   "id": "caaee767-c6b9-44b1-bc9f-09e555456df6",
   "metadata": {},
   "outputs": [
    {
     "name": "stdout",
     "output_type": "stream",
     "text": [
      "Cross Validation Score: [0.82964641 0.82139573 0.82451851 0.81241992 0.82011453 0.8214679\n",
      " 0.82689758 0.81111375 0.80811891 0.82122236]\n",
      "Mean Cross validation: 0.8196915586451492\n"
     ]
    }
   ],
   "source": [
    "from sklearn.model_selection import cross_val_score\n",
    "import numpy as np\n",
    "cv_scores = cross_val_score(rf, X, y, cv=10, scoring='r2', n_jobs=-1)\n",
    "print(\"Cross Validation Score:\", cv_scores)\n",
    "print(\"Mean Cross validation:\", np.mean(cv_scores))"
   ]
  },
  {
   "cell_type": "markdown",
   "id": "bb6fae0a-6522-41cc-a4b9-ad8bdf69bb6a",
   "metadata": {},
   "source": [
    "# Hyperparameter Tuning\n",
    "\n",
    "Use GridSearchCV or RandomizedSearchCV\n",
    "Show best parameters and improved performance"
   ]
  },
  {
   "cell_type": "code",
   "execution_count": 23,
   "id": "1564726e-4708-4335-8f10-633de12f847f",
   "metadata": {},
   "outputs": [
    {
     "name": "stdout",
     "output_type": "stream",
     "text": [
      "Best Parameters: {'max_depth': None, 'min_samples_leaf': 2, 'min_samples_split': 2, 'n_estimators': 200}\n",
      "Best Score: 0.8176605012150958\n"
     ]
    }
   ],
   "source": [
    "from sklearn.model_selection import GridSearchCV\n",
    "\n",
    "param_grid = {\n",
    "    'n_estimators': [50, 100, 200],\n",
    "    'max_depth': [None, 10, 20],\n",
    "    'min_samples_split': [2, 5],\n",
    "    'min_samples_leaf': [1, 2]\n",
    "}\n",
    "grid_search = GridSearchCV(rf, param_grid, cv=5, scoring='r2', n_jobs=-1)\n",
    "grid_search.fit(X, y)\n",
    "print(\"Best Parameters:\", grid_search.best_params_)\n",
    "print(\"Best Score:\", grid_search.best_score_)"
   ]
  },
  {
   "cell_type": "markdown",
   "id": "6987b6ab-8d18-4008-86fa-05223d3adc74",
   "metadata": {},
   "source": [
    "# Model Saving\n",
    "\n",
    "Save the trained model to the /models directory\n",
    "Use appropriate naming convention (e.g., linear_regression_model.pkl)"
   ]
  },
  {
   "cell_type": "code",
   "execution_count": 22,
   "id": "e4dc9081-3dd7-4986-8357-6de6cd774268",
   "metadata": {},
   "outputs": [
    {
     "data": {
      "text/plain": [
       "['/Users/jo/Documents/ca_housing_project/models/random_forest_model.pkl']"
      ]
     },
     "execution_count": 22,
     "metadata": {},
     "output_type": "execute_result"
    }
   ],
   "source": [
    "import joblib\n",
    "model_path = Path(\"/Users/jo/Documents/ca_housing_project/models/random_forest_model.pkl\")\n",
    "joblib.dump(grid_search.best_estimator_, model_path)"
   ]
  },
  {
   "cell_type": "code",
   "execution_count": null,
   "id": "803d2324-a006-4f44-8413-acd4d2a6be31",
   "metadata": {},
   "outputs": [],
   "source": []
  }
 ],
 "metadata": {
  "kernelspec": {
   "display_name": "Python [conda env:base] *",
   "language": "python",
   "name": "conda-base-py"
  },
  "language_info": {
   "codemirror_mode": {
    "name": "ipython",
    "version": 3
   },
   "file_extension": ".py",
   "mimetype": "text/x-python",
   "name": "python",
   "nbconvert_exporter": "python",
   "pygments_lexer": "ipython3",
   "version": "3.12.7"
  }
 },
 "nbformat": 4,
 "nbformat_minor": 5
}
